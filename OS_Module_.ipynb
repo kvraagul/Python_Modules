{
  "nbformat": 4,
  "nbformat_minor": 0,
  "metadata": {
    "colab": {
      "name": "OS Module .ipynb",
      "provenance": [],
      "authorship_tag": "ABX9TyNc3lhMbHJPGuNccEViJHWu",
      "include_colab_link": true
    },
    "kernelspec": {
      "name": "python3",
      "display_name": "Python 3"
    },
    "language_info": {
      "name": "python"
    }
  },
  "cells": [
    {
      "cell_type": "markdown",
      "metadata": {
        "id": "view-in-github",
        "colab_type": "text"
      },
      "source": [
        "<a href=\"https://colab.research.google.com/github/kvraagul/Python_Modules/blob/main/OS_Module_.ipynb\" target=\"_parent\"><img src=\"https://colab.research.google.com/assets/colab-badge.svg\" alt=\"Open In Colab\"/></a>"
      ]
    },
    {
      "cell_type": "markdown",
      "metadata": {
        "id": "QLp4wNovAhe7"
      },
      "source": [
        "# OS Module\n",
        "\n",
        "* The OS module in Python provides functions for interacting with the operating system\n",
        "\n",
        "* The OS module in Python provides functions for creating and removing a directory (folder), fetching its contents, changing and identifying the current directory, etc."
      ]
    },
    {
      "cell_type": "code",
      "metadata": {
        "id": "IWB8iBKoAMpf"
      },
      "source": [
        "import os"
      ],
      "execution_count": 28,
      "outputs": []
    },
    {
      "cell_type": "markdown",
      "metadata": {
        "id": "nd16xi5RQ46B"
      },
      "source": [
        "**EACH AND EVERY ATTRIBUTES IN OS MODULE**"
      ]
    },
    {
      "cell_type": "code",
      "metadata": {
        "colab": {
          "base_uri": "https://localhost:8080/"
        },
        "id": "AC3eiCTKQqI6",
        "outputId": "28cd1ce2-9b30-4737-be27-61303057d7f4"
      },
      "source": [
        "for i in dir(os):\n",
        "    print(i)"
      ],
      "execution_count": 29,
      "outputs": [
        {
          "output_type": "stream",
          "name": "stdout",
          "text": [
            "CLD_CONTINUED\n",
            "CLD_DUMPED\n",
            "CLD_EXITED\n",
            "CLD_TRAPPED\n",
            "DirEntry\n",
            "EX_CANTCREAT\n",
            "EX_CONFIG\n",
            "EX_DATAERR\n",
            "EX_IOERR\n",
            "EX_NOHOST\n",
            "EX_NOINPUT\n",
            "EX_NOPERM\n",
            "EX_NOUSER\n",
            "EX_OK\n",
            "EX_OSERR\n",
            "EX_OSFILE\n",
            "EX_PROTOCOL\n",
            "EX_SOFTWARE\n",
            "EX_TEMPFAIL\n",
            "EX_UNAVAILABLE\n",
            "EX_USAGE\n",
            "F_LOCK\n",
            "F_OK\n",
            "F_TEST\n",
            "F_TLOCK\n",
            "F_ULOCK\n",
            "GRND_NONBLOCK\n",
            "GRND_RANDOM\n",
            "MutableMapping\n",
            "NGROUPS_MAX\n",
            "O_ACCMODE\n",
            "O_APPEND\n",
            "O_ASYNC\n",
            "O_CLOEXEC\n",
            "O_CREAT\n",
            "O_DIRECT\n",
            "O_DIRECTORY\n",
            "O_DSYNC\n",
            "O_EXCL\n",
            "O_LARGEFILE\n",
            "O_NDELAY\n",
            "O_NOATIME\n",
            "O_NOCTTY\n",
            "O_NOFOLLOW\n",
            "O_NONBLOCK\n",
            "O_PATH\n",
            "O_RDONLY\n",
            "O_RDWR\n",
            "O_RSYNC\n",
            "O_SYNC\n",
            "O_TMPFILE\n",
            "O_TRUNC\n",
            "O_WRONLY\n",
            "POSIX_FADV_DONTNEED\n",
            "POSIX_FADV_NOREUSE\n",
            "POSIX_FADV_NORMAL\n",
            "POSIX_FADV_RANDOM\n",
            "POSIX_FADV_SEQUENTIAL\n",
            "POSIX_FADV_WILLNEED\n",
            "PRIO_PGRP\n",
            "PRIO_PROCESS\n",
            "PRIO_USER\n",
            "P_ALL\n",
            "P_NOWAIT\n",
            "P_NOWAITO\n",
            "P_PGID\n",
            "P_PID\n",
            "P_WAIT\n",
            "PathLike\n",
            "RTLD_DEEPBIND\n",
            "RTLD_GLOBAL\n",
            "RTLD_LAZY\n",
            "RTLD_LOCAL\n",
            "RTLD_NODELETE\n",
            "RTLD_NOLOAD\n",
            "RTLD_NOW\n",
            "RWF_DSYNC\n",
            "RWF_HIPRI\n",
            "RWF_NOWAIT\n",
            "RWF_SYNC\n",
            "R_OK\n",
            "SCHED_BATCH\n",
            "SCHED_FIFO\n",
            "SCHED_IDLE\n",
            "SCHED_OTHER\n",
            "SCHED_RESET_ON_FORK\n",
            "SCHED_RR\n",
            "SEEK_CUR\n",
            "SEEK_DATA\n",
            "SEEK_END\n",
            "SEEK_HOLE\n",
            "SEEK_SET\n",
            "ST_APPEND\n",
            "ST_MANDLOCK\n",
            "ST_NOATIME\n",
            "ST_NODEV\n",
            "ST_NODIRATIME\n",
            "ST_NOEXEC\n",
            "ST_NOSUID\n",
            "ST_RDONLY\n",
            "ST_RELATIME\n",
            "ST_SYNCHRONOUS\n",
            "ST_WRITE\n",
            "TMP_MAX\n",
            "WCONTINUED\n",
            "WCOREDUMP\n",
            "WEXITED\n",
            "WEXITSTATUS\n",
            "WIFCONTINUED\n",
            "WIFEXITED\n",
            "WIFSIGNALED\n",
            "WIFSTOPPED\n",
            "WNOHANG\n",
            "WNOWAIT\n",
            "WSTOPPED\n",
            "WSTOPSIG\n",
            "WTERMSIG\n",
            "WUNTRACED\n",
            "W_OK\n",
            "XATTR_CREATE\n",
            "XATTR_REPLACE\n",
            "XATTR_SIZE_MAX\n",
            "X_OK\n",
            "_Environ\n",
            "__all__\n",
            "__builtins__\n",
            "__cached__\n",
            "__doc__\n",
            "__file__\n",
            "__loader__\n",
            "__name__\n",
            "__package__\n",
            "__spec__\n",
            "_check_methods\n",
            "_execvpe\n",
            "_exists\n",
            "_exit\n",
            "_fspath\n",
            "_fwalk\n",
            "_get_exports_list\n",
            "_putenv\n",
            "_spawnvef\n",
            "_unsetenv\n",
            "_wrap_close\n",
            "abc\n",
            "abort\n",
            "access\n",
            "altsep\n",
            "chdir\n",
            "chmod\n",
            "chown\n",
            "chroot\n",
            "close\n",
            "closerange\n",
            "confstr\n",
            "confstr_names\n",
            "cpu_count\n",
            "ctermid\n",
            "curdir\n",
            "defpath\n",
            "device_encoding\n",
            "devnull\n",
            "dup\n",
            "dup2\n",
            "environ\n",
            "environb\n",
            "error\n",
            "execl\n",
            "execle\n",
            "execlp\n",
            "execlpe\n",
            "execv\n",
            "execve\n",
            "execvp\n",
            "execvpe\n",
            "extsep\n",
            "fchdir\n",
            "fchmod\n",
            "fchown\n",
            "fdatasync\n",
            "fdopen\n",
            "fork\n",
            "forkpty\n",
            "fpathconf\n",
            "fsdecode\n",
            "fsencode\n",
            "fspath\n",
            "fstat\n",
            "fstatvfs\n",
            "fsync\n",
            "ftruncate\n",
            "fwalk\n",
            "get_blocking\n",
            "get_exec_path\n",
            "get_inheritable\n",
            "get_terminal_size\n",
            "getcwd\n",
            "getcwdb\n",
            "getegid\n",
            "getenv\n",
            "getenvb\n",
            "geteuid\n",
            "getgid\n",
            "getgrouplist\n",
            "getgroups\n",
            "getloadavg\n",
            "getlogin\n",
            "getpgid\n",
            "getpgrp\n",
            "getpid\n",
            "getppid\n",
            "getpriority\n",
            "getrandom\n",
            "getresgid\n",
            "getresuid\n",
            "getsid\n",
            "getuid\n",
            "getxattr\n",
            "initgroups\n",
            "isatty\n",
            "kill\n",
            "killpg\n",
            "lchown\n",
            "linesep\n",
            "link\n",
            "listdir\n",
            "listxattr\n",
            "lockf\n",
            "lseek\n",
            "lstat\n",
            "major\n",
            "makedev\n",
            "makedirs\n",
            "minor\n",
            "mkdir\n",
            "mkfifo\n",
            "mknod\n",
            "name\n",
            "nice\n",
            "open\n",
            "openpty\n",
            "pardir\n",
            "path\n",
            "pathconf\n",
            "pathconf_names\n",
            "pathsep\n",
            "pipe\n",
            "pipe2\n",
            "popen\n",
            "posix_fadvise\n",
            "posix_fallocate\n",
            "pread\n",
            "preadv\n",
            "putenv\n",
            "pwrite\n",
            "pwritev\n",
            "read\n",
            "readlink\n",
            "readv\n",
            "register_at_fork\n",
            "remove\n",
            "removedirs\n",
            "removexattr\n",
            "rename\n",
            "renames\n",
            "replace\n",
            "rmdir\n",
            "scandir\n",
            "sched_get_priority_max\n",
            "sched_get_priority_min\n",
            "sched_getaffinity\n",
            "sched_getparam\n",
            "sched_getscheduler\n",
            "sched_param\n",
            "sched_rr_get_interval\n",
            "sched_setaffinity\n",
            "sched_setparam\n",
            "sched_setscheduler\n",
            "sched_yield\n",
            "sendfile\n",
            "sep\n",
            "set_blocking\n",
            "set_inheritable\n",
            "setegid\n",
            "seteuid\n",
            "setgid\n",
            "setgroups\n",
            "setpgid\n",
            "setpgrp\n",
            "setpriority\n",
            "setregid\n",
            "setresgid\n",
            "setresuid\n",
            "setreuid\n",
            "setsid\n",
            "setuid\n",
            "setxattr\n",
            "spawnl\n",
            "spawnle\n",
            "spawnlp\n",
            "spawnlpe\n",
            "spawnv\n",
            "spawnve\n",
            "spawnvp\n",
            "spawnvpe\n",
            "st\n",
            "stat\n",
            "stat_result\n",
            "statvfs\n",
            "statvfs_result\n",
            "strerror\n",
            "supports_bytes_environ\n",
            "supports_dir_fd\n",
            "supports_effective_ids\n",
            "supports_fd\n",
            "supports_follow_symlinks\n",
            "symlink\n",
            "sync\n",
            "sys\n",
            "sysconf\n",
            "sysconf_names\n",
            "system\n",
            "tcgetpgrp\n",
            "tcsetpgrp\n",
            "terminal_size\n",
            "times\n",
            "times_result\n",
            "truncate\n",
            "ttyname\n",
            "umask\n",
            "uname\n",
            "uname_result\n",
            "unlink\n",
            "unsetenv\n",
            "urandom\n",
            "utime\n",
            "wait\n",
            "wait3\n",
            "wait4\n",
            "waitid\n",
            "waitid_result\n",
            "waitpid\n",
            "walk\n",
            "write\n",
            "writev\n"
          ]
        }
      ]
    },
    {
      "cell_type": "markdown",
      "metadata": {
        "id": "v5XIPK6aRZGQ"
      },
      "source": [
        "**TO CHECK CURRENT WORKING DIRECTORY**"
      ]
    },
    {
      "cell_type": "code",
      "metadata": {
        "colab": {
          "base_uri": "https://localhost:8080/"
        },
        "id": "1t-t-EzFRMol",
        "outputId": "a8b0c44c-b359-4736-c59d-250b8975af52"
      },
      "source": [
        "print(os.getcwd())"
      ],
      "execution_count": 30,
      "outputs": [
        {
          "output_type": "stream",
          "name": "stdout",
          "text": [
            "/content\n"
          ]
        }
      ]
    },
    {
      "cell_type": "markdown",
      "metadata": {
        "id": "XuYKju1YR2xi"
      },
      "source": [
        " **TO CHANGE THE WORKING DIRECTORY**"
      ]
    },
    {
      "cell_type": "code",
      "metadata": {
        "id": "AfvUpivSSOfd"
      },
      "source": [
        "os.chdir('pass the directory')\n",
        "\n",
        "# chdir - change directory"
      ],
      "execution_count": 31,
      "outputs": []
    },
    {
      "cell_type": "markdown",
      "metadata": {
        "id": "HMNb7bicSosw"
      },
      "source": [
        "**TO LIST THE FILES AND FOLDERS**"
      ]
    },
    {
      "cell_type": "code",
      "metadata": {
        "colab": {
          "base_uri": "https://localhost:8080/"
        },
        "id": "Bc4yvKmGSbmD",
        "outputId": "54ef6bff-a0b9-4dce-8bcc-bfbf1f95c34c"
      },
      "source": [
        "print(os.listdir())"
      ],
      "execution_count": 32,
      "outputs": [
        {
          "output_type": "stream",
          "name": "stdout",
          "text": [
            "['.config', 'dir1', 'directory1', 'sample_data']\n"
          ]
        }
      ]
    },
    {
      "cell_type": "markdown",
      "metadata": {
        "id": "eFA-HTHTkVXs"
      },
      "source": [
        "**TO CREATE A DIRECTORY**"
      ]
    },
    {
      "cell_type": "code",
      "metadata": {
        "id": "oUqLHnt2lDdF"
      },
      "source": [
        "os.makedirs('dir1')\n",
        "\n",
        "os.makedirs('directory1')"
      ],
      "execution_count": 34,
      "outputs": []
    },
    {
      "cell_type": "code",
      "metadata": {
        "colab": {
          "base_uri": "https://localhost:8080/"
        },
        "id": "LoKOWw7ekYhK",
        "outputId": "9647868e-eed8-4cc5-bc9e-4d990614169f"
      },
      "source": [
        "os.makedirs('main1')\n",
        "\n",
        "print(os.listdir())"
      ],
      "execution_count": 35,
      "outputs": [
        {
          "output_type": "stream",
          "name": "stdout",
          "text": [
            "['.config', 'dir1', 'directory1', 'main1', 'sample_data']\n"
          ]
        }
      ]
    },
    {
      "cell_type": "markdown",
      "metadata": {
        "id": "8i4nogRklW9P"
      },
      "source": [
        "**TO REMOVE A DIRECTORY**"
      ]
    },
    {
      "cell_type": "code",
      "metadata": {
        "id": "NPg7DR7glb3j"
      },
      "source": [
        "os.removedirs('directory1')"
      ],
      "execution_count": 36,
      "outputs": []
    },
    {
      "cell_type": "code",
      "metadata": {
        "id": "1q-ngxR2lleJ"
      },
      "source": [
        "os.removedirs('dir1')"
      ],
      "execution_count": 37,
      "outputs": []
    },
    {
      "cell_type": "code",
      "metadata": {
        "colab": {
          "base_uri": "https://localhost:8080/"
        },
        "id": "6kUqeyxClqRC",
        "outputId": "9d18a530-e886-42f2-9b9d-874b02c03449"
      },
      "source": [
        "print(os.listdir())"
      ],
      "execution_count": 38,
      "outputs": [
        {
          "output_type": "stream",
          "name": "stdout",
          "text": [
            "['.config', 'main1', 'sample_data']\n"
          ]
        }
      ]
    },
    {
      "cell_type": "markdown",
      "metadata": {
        "id": "227jlXeblwep"
      },
      "source": [
        "**TO RENAME A FILE OR FOLDER**"
      ]
    },
    {
      "cell_type": "code",
      "metadata": {
        "colab": {
          "base_uri": "https://localhost:8080/"
        },
        "id": "HLrAX6Xcl1IA",
        "outputId": "9c099cff-f1ff-4452-b2c8-178c63a83883"
      },
      "source": [
        "os.rename('main1','osdir')\n",
        "print(os.listdir())"
      ],
      "execution_count": 39,
      "outputs": [
        {
          "output_type": "stream",
          "name": "stdout",
          "text": [
            "['.config', 'osdir', 'sample_data']\n"
          ]
        }
      ]
    },
    {
      "cell_type": "markdown",
      "metadata": {
        "id": "sxBsJ6DKmDHO"
      },
      "source": [
        "**TO PRINT ALL THE INFORMATION**"
      ]
    },
    {
      "cell_type": "code",
      "metadata": {
        "colab": {
          "base_uri": "https://localhost:8080/"
        },
        "id": "qvlvFvPkSkj5",
        "outputId": "0513072b-67f6-44f9-e8ab-b7aa23224c92"
      },
      "source": [
        "print(os.stat('.config'))"
      ],
      "execution_count": 40,
      "outputs": [
        {
          "output_type": "stream",
          "name": "stdout",
          "text": [
            "os.stat_result(st_mode=16877, st_ino=2490390, st_dev=52, st_nlink=4, st_uid=0, st_gid=0, st_size=4096, st_atime=1632148226, st_mtime=1631799581, st_ctime=1632148226)\n"
          ]
        }
      ]
    },
    {
      "cell_type": "markdown",
      "metadata": {
        "id": "QL3YkHsWoueu"
      },
      "source": [
        "**TO GET ACCESS OF ENVIRONMENT VARIABLES**"
      ]
    },
    {
      "cell_type": "code",
      "metadata": {
        "colab": {
          "base_uri": "https://localhost:8080/"
        },
        "id": "vswL4DM4Z7NR",
        "outputId": "6f3b62a4-b8e2-4bfe-ea30-9d57c3e495e3"
      },
      "source": [
        "import pprint\n",
        "  \n",
        "# Get the list of user's\n",
        "# environment variables\n",
        "env_var = os.environ\n",
        "  \n",
        "# Print the list of user's\n",
        "# environment variables\n",
        "print(\"User's Environment variable:\")\n",
        "pprint.pprint(dict(env_var), width = 1)"
      ],
      "execution_count": 49,
      "outputs": [
        {
          "output_type": "stream",
          "name": "stdout",
          "text": [
            "User's Environment variable:\n",
            "{'CLICOLOR': '1',\n",
            " 'CLOUDSDK_CONFIG': '/content/.config',\n",
            " 'CLOUDSDK_PYTHON': 'python3',\n",
            " 'COLAB_GPU': '0',\n",
            " 'CUDA_VERSION': '11.1.1',\n",
            " 'CUDNN_VERSION': '8.0.5.39',\n",
            " 'DATALAB_SETTINGS_OVERRIDES': '{\"kernelManagerProxyPort\":6000,\"kernelManagerProxyHost\":\"172.28.0.3\",\"jupyterArgs\":[\"--ip=\\\\\"172.28.0.2\\\\\"\"],\"debugAdapterMultiplexerPath\":\"/usr/local/bin/dap_multiplexer\",\"enableLsp\":true}',\n",
            " 'DEBIAN_FRONTEND': 'noninteractive',\n",
            " 'ENV': '/root/.bashrc',\n",
            " 'GCE_METADATA_TIMEOUT': '0',\n",
            " 'GCS_READ_CACHE_BLOCK_SIZE_MB': '16',\n",
            " 'GIT_PAGER': 'cat',\n",
            " 'GLIBCPP_FORCE_NEW': '1',\n",
            " 'GLIBCXX_FORCE_NEW': '1',\n",
            " 'HOME': '/root',\n",
            " 'HOSTNAME': 'dd2881a53452',\n",
            " 'JPY_PARENT_PID': '51',\n",
            " 'LANG': 'en_US.UTF-8',\n",
            " 'LAST_FORCED_REBUILD': '20210824',\n",
            " 'LD_LIBRARY_PATH': '/usr/local/nvidia/lib:/usr/local/nvidia/lib64',\n",
            " 'LD_PRELOAD': '/usr/lib/x86_64-linux-gnu/libtcmalloc.so.4',\n",
            " 'LIBRARY_PATH': '/usr/local/cuda/lib64/stubs',\n",
            " 'MPLBACKEND': 'module://ipykernel.pylab.backend_inline',\n",
            " 'NCCL_VERSION': '2.7.8',\n",
            " 'NO_GCE_CHECK': 'True',\n",
            " 'NVIDIA_DRIVER_CAPABILITIES': 'compute,utility',\n",
            " 'NVIDIA_REQUIRE_CUDA': 'cuda>=11.1 '\n",
            "                        'brand=tesla,driver>=418,driver<419 '\n",
            "                        'brand=tesla,driver>=440,driver<441 '\n",
            "                        'brand=tesla,driver>=450,driver<451',\n",
            " 'NVIDIA_VISIBLE_DEVICES': 'all',\n",
            " 'OLDPWD': '/',\n",
            " 'PAGER': 'cat',\n",
            " 'PATH': '/usr/local/nvidia/bin:/usr/local/cuda/bin:/usr/local/sbin:/usr/local/bin:/usr/sbin:/usr/bin:/sbin:/bin:/tools/node/bin:/tools/google-cloud-sdk/bin:/opt/bin',\n",
            " 'PWD': '/',\n",
            " 'PYDEVD_USE_FRAME_EVAL': 'NO',\n",
            " 'PYTHONPATH': '/env/python',\n",
            " 'PYTHONWARNINGS': 'ignore:::pip._internal.cli.base_command',\n",
            " 'SHELL': '/bin/bash',\n",
            " 'SHLVL': '0',\n",
            " 'TBE_CREDS_ADDR': '172.28.0.1:8008',\n",
            " 'TERM': 'xterm-color',\n",
            " 'TF_FORCE_GPU_ALLOW_GROWTH': 'true'}\n"
          ]
        }
      ]
    },
    {
      "cell_type": "markdown",
      "metadata": {
        "id": "2yWbTcH7msmU"
      },
      "source": [
        "**TO GO-THROUGH ALL OF THE FILES AND FOLDERS IN THE DIRECTORY**"
      ]
    },
    {
      "cell_type": "code",
      "metadata": {
        "id": "wnLgVIj5migC"
      },
      "source": [
        "print(os.walk(''))"
      ],
      "execution_count": 44,
      "outputs": []
    },
    {
      "cell_type": "markdown",
      "metadata": {
        "id": "mh_qATJNnCM4"
      },
      "source": [
        "**TO JOIN TWO PATHS**"
      ]
    },
    {
      "cell_type": "code",
      "metadata": {
        "id": "63N5SekKe412"
      },
      "source": [
        "os.path.join()"
      ],
      "execution_count": null,
      "outputs": []
    },
    {
      "cell_type": "markdown",
      "metadata": {
        "id": "C1xqoiJ6nIZM"
      },
      "source": [
        "**TO CHECK THE PATH, FILE OR DIRECTORY EXISTS**"
      ]
    },
    {
      "cell_type": "code",
      "metadata": {
        "colab": {
          "base_uri": "https://localhost:8080/"
        },
        "id": "gFlJysRce7ve",
        "outputId": "1e724e4f-5046-4571-96e8-0c58f0caf1f9"
      },
      "source": [
        "os.path.exists('fhashk.txt')"
      ],
      "execution_count": 45,
      "outputs": [
        {
          "output_type": "execute_result",
          "data": {
            "text/plain": [
              "False"
            ]
          },
          "metadata": {},
          "execution_count": 45
        }
      ]
    },
    {
      "cell_type": "code",
      "metadata": {
        "colab": {
          "base_uri": "https://localhost:8080/"
        },
        "id": "JUgw7fFonQjW",
        "outputId": "b0e54b68-0cb0-4b55-dfd9-72522ad48862"
      },
      "source": [
        "os.path.isfile('SDFF')"
      ],
      "execution_count": 46,
      "outputs": [
        {
          "output_type": "execute_result",
          "data": {
            "text/plain": [
              "False"
            ]
          },
          "metadata": {},
          "execution_count": 46
        }
      ]
    },
    {
      "cell_type": "code",
      "metadata": {
        "colab": {
          "base_uri": "https://localhost:8080/"
        },
        "id": "kqNWsqAlnhpK",
        "outputId": "8c6f1b62-5f57-48ee-e521-c2395c90f703"
      },
      "source": [
        "os.path.isdir('ASDF')"
      ],
      "execution_count": 47,
      "outputs": [
        {
          "output_type": "execute_result",
          "data": {
            "text/plain": [
              "False"
            ]
          },
          "metadata": {},
          "execution_count": 47
        }
      ]
    },
    {
      "cell_type": "markdown",
      "metadata": {
        "id": "Gi3zmnYQnpG2"
      },
      "source": [
        "**TO SPLIT FILE NAME FROM EXTENSIONS LIKE CSV, TXT ETC**"
      ]
    },
    {
      "cell_type": "code",
      "metadata": {
        "id": "0gXvNtHhnkQF"
      },
      "source": [
        "os.path.splitext('')"
      ],
      "execution_count": null,
      "outputs": []
    },
    {
      "cell_type": "code",
      "metadata": {
        "colab": {
          "base_uri": "https://localhost:8080/"
        },
        "id": "3vZ9zuD0n0Kq",
        "outputId": "d91ce4ef-df69-4b42-e802-5ec2448395e1"
      },
      "source": [
        "for path in dir(os.path):\n",
        "  print(path)"
      ],
      "execution_count": 48,
      "outputs": [
        {
          "output_type": "stream",
          "name": "stdout",
          "text": [
            "__all__\n",
            "__builtins__\n",
            "__cached__\n",
            "__doc__\n",
            "__file__\n",
            "__loader__\n",
            "__name__\n",
            "__package__\n",
            "__spec__\n",
            "_get_sep\n",
            "_joinrealpath\n",
            "_varprog\n",
            "_varprogb\n",
            "abspath\n",
            "altsep\n",
            "basename\n",
            "commonpath\n",
            "commonprefix\n",
            "curdir\n",
            "defpath\n",
            "devnull\n",
            "dirname\n",
            "exists\n",
            "expanduser\n",
            "expandvars\n",
            "extsep\n",
            "genericpath\n",
            "getatime\n",
            "getctime\n",
            "getmtime\n",
            "getsize\n",
            "isabs\n",
            "isdir\n",
            "isfile\n",
            "islink\n",
            "ismount\n",
            "join\n",
            "lexists\n",
            "normcase\n",
            "normpath\n",
            "os\n",
            "pardir\n",
            "pathsep\n",
            "realpath\n",
            "relpath\n",
            "samefile\n",
            "sameopenfile\n",
            "samestat\n",
            "sep\n",
            "split\n",
            "splitdrive\n",
            "splitext\n",
            "stat\n",
            "supports_unicode_filenames\n",
            "sys\n"
          ]
        }
      ]
    }
  ]
}